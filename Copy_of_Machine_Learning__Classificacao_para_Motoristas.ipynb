{
  "nbformat": 4,
  "nbformat_minor": 0,
  "metadata": {
    "colab": {
      "name": "Copy of Machine_Learning__Classificacao_para_Motoristas.ipynb",
      "provenance": [],
      "collapsed_sections": [],
      "authorship_tag": "ABX9TyOuhMyRTqF7ott/f7srqpj6",
      "include_colab_link": true
    },
    "kernelspec": {
      "name": "python3",
      "display_name": "Python 3"
    }
  },
  "cells": [
    {
      "cell_type": "markdown",
      "metadata": {
        "id": "view-in-github",
        "colab_type": "text"
      },
      "source": [
        "<a href=\"https://colab.research.google.com/github/RodrigoTenorio86/Machine_Learning__Classificacao_para_Motoristas/blob/master/Copy_of_Machine_Learning__Classificacao_para_Motoristas.ipynb\" target=\"_parent\"><img src=\"https://colab.research.google.com/assets/colab-badge.svg\" alt=\"Open In Colab\"/></a>"
      ]
    },
    {
      "cell_type": "markdown",
      "metadata": {
        "id": "Yh1GDGy4wMQR",
        "colab_type": "text"
      },
      "source": [
        "# Machine Learning: para classifica qualidade de motoristas"
      ]
    },
    {
      "cell_type": "code",
      "metadata": {
        "id": "3m42gu5HwU0O",
        "colab_type": "code",
        "colab": {}
      },
      "source": [
        "import pandas as pd\n",
        "from sklearn.naive_bayes import MultinomialNB"
      ],
      "execution_count": 0,
      "outputs": []
    },
    {
      "cell_type": "markdown",
      "metadata": {
        "id": "25_n4UV2w05L",
        "colab_type": "text"
      },
      "source": [
        "## importação da base de dados com historicos dos cliente."
      ]
    },
    {
      "cell_type": "markdown",
      "metadata": {
        "id": "yKRa2uDBAwtg",
        "colab_type": "text"
      },
      "source": [
        "## Importação da base de dados com 10 costumes dos motoristas como:   Andar com combustível na reserva, Passar em lombadas ou valetas na diagonal, Encostar as rodas na guia, Girar o volante com o veículo parado ou com as rodas coladas na guia, Descansar o pé na embreagem, Passar em áreas alagadas, Descer a serra desengrenado, Dar arrancadas e reduzidas intensas, Usar óleo vencido e Andar com o carro desalinhado.(0=> Não comete e 1=>comete)"
      ]
    },
    {
      "cell_type": "code",
      "metadata": {
        "id": "Y2gvSLPW3eEC",
        "colab_type": "code",
        "colab": {}
      },
      "source": [
        "dados=pd.read_excel('/content/dados.xlsx',index_col=0,header=0 )"
      ],
      "execution_count": 0,
      "outputs": []
    },
    {
      "cell_type": "code",
      "metadata": {
        "id": "vH26_BbS33ld",
        "colab_type": "code",
        "outputId": "517065f0-b166-40aa-b088-040c03c81767",
        "colab": {
          "base_uri": "https://localhost:8080/",
          "height": 272
        }
      },
      "source": [
        "dados.head"
      ],
      "execution_count": 0,
      "outputs": [
        {
          "output_type": "execute_result",
          "data": {
            "text/plain": [
              "<bound method NDFrame.head of      Combustivel_na_reserva  ...  Andar_carro_desalinhado\n",
              "id                           ...                         \n",
              "1                         1  ...                        1\n",
              "2                         1  ...                        1\n",
              "3                         0  ...                        0\n",
              "4                         0  ...                        0\n",
              "5                         0  ...                        0\n",
              "..                      ...  ...                      ...\n",
              "105                       1  ...                        1\n",
              "106                       1  ...                        1\n",
              "107                       1  ...                        1\n",
              "108                       1  ...                        1\n",
              "109                       1  ...                        1\n",
              "\n",
              "[109 rows x 10 columns]>"
            ]
          },
          "metadata": {
            "tags": []
          },
          "execution_count": 5
        }
      ]
    },
    {
      "cell_type": "code",
      "metadata": {
        "id": "ZF-FNr9iWeHg",
        "colab_type": "code",
        "colab": {}
      },
      "source": [
        "dados_motoristas_treinando=[]"
      ],
      "execution_count": 0,
      "outputs": []
    },
    {
      "cell_type": "markdown",
      "metadata": {
        "id": "gMLEyX4XxFdv",
        "colab_type": "text"
      },
      "source": [
        "## conversão de DataFrame do Pandas para lista."
      ]
    },
    {
      "cell_type": "code",
      "metadata": {
        "id": "ULUx_XzRWjm-",
        "colab_type": "code",
        "colab": {}
      },
      "source": [
        "dados_motoristas_treinando= dados.values.tolist()"
      ],
      "execution_count": 0,
      "outputs": []
    },
    {
      "cell_type": "code",
      "metadata": {
        "id": "hLbyIl41Wpk8",
        "colab_type": "code",
        "outputId": "01378a17-4ef7-41c5-c671-2136b942221e",
        "colab": {
          "base_uri": "https://localhost:8080/",
          "height": 34
        }
      },
      "source": [
        "type(dados_motoristas_treinando)"
      ],
      "execution_count": 0,
      "outputs": [
        {
          "output_type": "execute_result",
          "data": {
            "text/plain": [
              "list"
            ]
          },
          "metadata": {
            "tags": []
          },
          "execution_count": 8
        }
      ]
    },
    {
      "cell_type": "code",
      "metadata": {
        "id": "qPCye_whWwyF",
        "colab_type": "code",
        "outputId": "d1e8f9ee-0b2b-4cef-8578-1fb5040792a0",
        "colab": {
          "base_uri": "https://localhost:8080/",
          "height": 54
        }
      },
      "source": [
        "print(dados_motoristas_treinando)"
      ],
      "execution_count": 0,
      "outputs": [
        {
          "output_type": "stream",
          "text": [
            "[[1, 0, 0, 0, 0, 0, 0, 0, 0, 1], [1, 0, 0, 0, 0, 0, 0, 0, 0, 1], [0, 0, 0, 0, 0, 0, 0, 0, 0, 0], [0, 0, 0, 0, 0, 0, 0, 0, 0, 0], [0, 0, 0, 0, 0, 0, 0, 0, 0, 0], [0, 0, 0, 0, 0, 0, 0, 0, 0, 0], [0, 0, 0, 0, 0, 0, 0, 0, 0, 0], [0, 0, 0, 0, 0, 0, 0, 0, 0, 0], [0, 0, 0, 0, 0, 0, 0, 0, 0, 0], [0, 0, 0, 0, 0, 0, 0, 0, 0, 0], [0, 0, 0, 0, 0, 0, 0, 0, 0, 0], [0, 0, 0, 0, 0, 0, 0, 0, 0, 0], [0, 0, 0, 0, 0, 0, 0, 0, 0, 0], [0, 0, 0, 0, 0, 0, 0, 0, 0, 0], [0, 0, 0, 0, 0, 0, 0, 0, 0, 0], [0, 0, 0, 0, 0, 0, 0, 0, 0, 0], [0, 0, 0, 0, 0, 0, 0, 0, 0, 0], [0, 0, 0, 0, 0, 0, 0, 0, 0, 0], [0, 0, 0, 0, 0, 0, 0, 0, 0, 0], [0, 0, 0, 0, 0, 0, 0, 0, 0, 0], [0, 0, 0, 0, 0, 0, 0, 0, 0, 0], [0, 0, 0, 0, 0, 0, 0, 0, 0, 0], [0, 0, 0, 0, 0, 0, 0, 0, 0, 0], [0, 0, 0, 0, 0, 0, 0, 0, 0, 0], [0, 0, 0, 0, 0, 0, 0, 0, 0, 0], [0, 0, 0, 0, 0, 0, 0, 0, 0, 0], [0, 0, 0, 0, 0, 0, 0, 0, 0, 0], [0, 0, 0, 0, 0, 0, 0, 0, 0, 0], [0, 0, 0, 0, 0, 0, 0, 0, 0, 0], [0, 0, 0, 0, 0, 0, 0, 0, 0, 0], [0, 0, 0, 0, 0, 0, 0, 0, 0, 0], [0, 0, 0, 0, 0, 0, 0, 0, 0, 0], [0, 0, 0, 0, 0, 0, 0, 0, 0, 0], [0, 0, 0, 0, 0, 0, 0, 0, 0, 0], [0, 0, 0, 0, 0, 0, 0, 0, 0, 0], [0, 0, 0, 0, 0, 0, 0, 0, 0, 0], [0, 0, 0, 0, 0, 0, 0, 0, 0, 0], [0, 0, 0, 0, 0, 0, 0, 0, 0, 0], [0, 0, 0, 0, 0, 0, 0, 0, 0, 0], [0, 0, 0, 0, 0, 0, 0, 0, 0, 0], [0, 0, 0, 0, 0, 0, 0, 0, 0, 0], [0, 0, 0, 0, 0, 0, 0, 0, 0, 0], [0, 0, 0, 0, 0, 0, 0, 0, 0, 0], [0, 0, 0, 0, 0, 0, 0, 0, 0, 0], [0, 0, 0, 0, 0, 0, 0, 0, 0, 0], [0, 0, 0, 0, 0, 0, 0, 0, 0, 0], [0, 0, 0, 0, 0, 0, 0, 0, 0, 0], [0, 0, 0, 0, 0, 0, 0, 0, 0, 0], [0, 0, 0, 0, 0, 0, 0, 0, 0, 0], [0, 0, 0, 0, 0, 0, 0, 0, 0, 0], [0, 0, 0, 0, 0, 0, 0, 0, 0, 0], [0, 0, 0, 0, 0, 0, 0, 0, 0, 0], [0, 0, 0, 0, 0, 0, 0, 0, 0, 0], [0, 0, 0, 0, 0, 0, 0, 0, 0, 0], [1, 1, 1, 1, 1, 1, 1, 1, 1, 1], [1, 1, 1, 1, 1, 1, 1, 1, 1, 1], [1, 1, 1, 1, 1, 1, 1, 1, 1, 1], [1, 1, 1, 1, 1, 1, 1, 1, 1, 1], [1, 1, 1, 1, 1, 1, 1, 1, 1, 1], [1, 1, 1, 1, 1, 1, 1, 1, 1, 1], [1, 1, 1, 1, 1, 1, 1, 1, 1, 1], [1, 1, 1, 1, 1, 1, 1, 1, 1, 1], [1, 1, 1, 1, 1, 1, 1, 1, 1, 1], [1, 1, 1, 1, 1, 1, 1, 1, 1, 1], [1, 1, 1, 1, 1, 1, 1, 1, 1, 1], [1, 1, 1, 1, 1, 1, 1, 1, 1, 1], [1, 1, 1, 1, 1, 1, 1, 1, 1, 1], [1, 1, 1, 1, 1, 1, 1, 1, 1, 1], [1, 1, 1, 1, 1, 1, 1, 1, 1, 1], [1, 1, 1, 1, 1, 1, 1, 1, 1, 1], [1, 1, 1, 1, 1, 1, 1, 1, 1, 1], [1, 1, 1, 1, 1, 1, 1, 1, 1, 1], [1, 1, 1, 1, 1, 1, 1, 1, 1, 1], [1, 1, 1, 1, 1, 1, 1, 1, 1, 1], [1, 1, 1, 1, 1, 1, 1, 1, 1, 1], [1, 1, 1, 1, 1, 1, 1, 1, 1, 1], [1, 1, 1, 1, 1, 1, 1, 1, 1, 1], [1, 1, 1, 1, 1, 1, 1, 1, 1, 1], [1, 1, 1, 1, 1, 1, 1, 1, 1, 1], [1, 1, 1, 1, 1, 1, 1, 1, 1, 1], [1, 1, 1, 1, 1, 1, 1, 1, 1, 1], [1, 1, 1, 1, 1, 1, 1, 1, 1, 1], [1, 1, 1, 1, 1, 1, 1, 1, 1, 1], [0, 1, 1, 1, 1, 1, 1, 1, 1, 1], [0, 0, 1, 1, 1, 1, 1, 1, 1, 1], [0, 0, 1, 1, 1, 1, 1, 1, 1, 1], [0, 0, 1, 1, 1, 1, 1, 1, 1, 1], [0, 0, 1, 1, 1, 1, 1, 1, 1, 1], [1, 1, 1, 1, 1, 1, 1, 1, 1, 1], [1, 1, 1, 1, 1, 1, 1, 1, 1, 1], [1, 1, 1, 1, 1, 1, 1, 1, 1, 1], [0, 0, 1, 1, 1, 1, 1, 1, 1, 1], [1, 1, 1, 1, 1, 1, 1, 1, 1, 1], [0, 0, 1, 1, 1, 1, 1, 1, 1, 1], [0, 0, 1, 1, 1, 1, 1, 1, 1, 1], [0, 0, 1, 1, 1, 1, 1, 1, 1, 1], [0, 0, 1, 1, 1, 1, 1, 1, 1, 1], [0, 0, 1, 1, 1, 1, 1, 1, 1, 1], [1, 1, 1, 1, 1, 1, 1, 1, 1, 1], [1, 1, 0, 1, 1, 1, 1, 1, 1, 1], [1, 1, 0, 1, 1, 1, 1, 1, 1, 1], [1, 1, 0, 1, 1, 1, 1, 1, 1, 1], [1, 1, 0, 1, 1, 1, 1, 1, 1, 1], [1, 1, 1, 1, 1, 1, 1, 1, 1, 1], [1, 1, 1, 1, 1, 1, 1, 1, 1, 1], [1, 1, 1, 1, 1, 1, 1, 1, 1, 1], [1, 1, 1, 1, 1, 1, 1, 1, 1, 1], [1, 1, 1, 1, 1, 1, 1, 1, 1, 1], [1, 1, 1, 1, 1, 1, 1, 1, 1, 1]]\n"
          ],
          "name": "stdout"
        }
      ]
    },
    {
      "cell_type": "code",
      "metadata": {
        "id": "SqcBXRhzfXR3",
        "colab_type": "code",
        "outputId": "77198e6f-6ad3-414b-e300-859eecafb800",
        "colab": {
          "base_uri": "https://localhost:8080/",
          "height": 34
        }
      },
      "source": [
        "len(dados_motoristas_treinando)"
      ],
      "execution_count": 0,
      "outputs": [
        {
          "output_type": "execute_result",
          "data": {
            "text/plain": [
              "109"
            ]
          },
          "metadata": {
            "tags": []
          },
          "execution_count": 10
        }
      ]
    },
    {
      "cell_type": "markdown",
      "metadata": {
        "id": "CwqqDCQTxT_U",
        "colab_type": "text"
      },
      "source": [
        "## Criação das marcas de classificação dos clientes da base de treinamento (0 => bons Motorista e 1 => maus Motoristas)"
      ]
    },
    {
      "cell_type": "code",
      "metadata": {
        "id": "ohIYaPA9I9hK",
        "colab_type": "code",
        "colab": {}
      },
      "source": [
        "marcacoes_treinando = []"
      ],
      "execution_count": 0,
      "outputs": []
    },
    {
      "cell_type": "code",
      "metadata": {
        "id": "QpxiK8vQG6Oy",
        "colab_type": "code",
        "colab": {}
      },
      "source": [
        "for d in range(109):\n",
        "    if(d<55):\n",
        "        marcacoes_treinando.append(0)\n",
        "    elif(d >= 55):\n",
        "        marcacoes_treinando.append(1)"
      ],
      "execution_count": 0,
      "outputs": []
    },
    {
      "cell_type": "code",
      "metadata": {
        "id": "hzV40wEbI2-Z",
        "colab_type": "code",
        "outputId": "0a62724d-cc11-4187-a236-6f845eefe789",
        "colab": {
          "base_uri": "https://localhost:8080/",
          "height": 34
        }
      },
      "source": [
        "len(marcacoes_treinando)"
      ],
      "execution_count": 0,
      "outputs": [
        {
          "output_type": "execute_result",
          "data": {
            "text/plain": [
              "109"
            ]
          },
          "metadata": {
            "tags": []
          },
          "execution_count": 13
        }
      ]
    },
    {
      "cell_type": "markdown",
      "metadata": {
        "id": "YYehO6g1069h",
        "colab_type": "text"
      },
      "source": [
        "## Criação de 10 novos clientes com perfis variados para base de teste do algoritmo"
      ]
    },
    {
      "cell_type": "code",
      "metadata": {
        "id": "MeEdx7MHLgqA",
        "colab_type": "code",
        "colab": {}
      },
      "source": [
        "motorista_1=[1,0,0,0,0,0,0,0,0,1]\n",
        "motorista_2=[0,0,0,0,0,0,0,0,0,0]\n",
        "motorista_3=[0,0,0,0,0,0,0,1,1,1]\n",
        "motorista_4=[1,1,1,1,1,1,1,1,1,1]\n",
        "motorista_5=[0,0,1,1,1,1,1,1,1,1]\n",
        "motorista_6=[1,1,1,0,1,1,1,1,1,1]\n",
        "motorista_7=[0,0,0,0,0,0,0,1,1,1]\n",
        "motorista_8=[1,1,1,1,1,1,1,1,1,1]\n",
        "motorista_9=[0,0,0,1,1,1,1,1,1,1]\n",
        "motorista_10=[1,1,0,0,1,1,1,1,1,1]"
      ],
      "execution_count": 0,
      "outputs": []
    },
    {
      "cell_type": "code",
      "metadata": {
        "id": "wLmdWjh_SkBD",
        "colab_type": "code",
        "colab": {}
      },
      "source": [
        "dados_motoristas_teste = [motorista_1, motorista_2, motorista_3,motorista_4, motorista_5,motorista_6,motorista_7,motorista_8,motorista_9,motorista_10]"
      ],
      "execution_count": 0,
      "outputs": []
    },
    {
      "cell_type": "code",
      "metadata": {
        "id": "9dTsAxGeycyz",
        "colab_type": "code",
        "colab": {}
      },
      "source": [
        "resultado_do_teste = [0,0,0,1,1,1,0,1,1,1]"
      ],
      "execution_count": 0,
      "outputs": []
    },
    {
      "cell_type": "markdown",
      "metadata": {
        "id": "B8ReYGI51KRn",
        "colab_type": "text"
      },
      "source": [
        "## Desenvolvimento do algoritmo para classificação dos clientes entre bom ou mal motoristas"
      ]
    },
    {
      "cell_type": "code",
      "metadata": {
        "id": "zbzhOM9P-J9G",
        "colab_type": "code",
        "colab": {}
      },
      "source": [
        "modelo = MultinomialNB()"
      ],
      "execution_count": 0,
      "outputs": []
    },
    {
      "cell_type": "code",
      "metadata": {
        "id": "khAnh9YBB2-c",
        "colab_type": "code",
        "outputId": "41f25225-0753-4776-d345-615ab1e71547",
        "colab": {
          "base_uri": "https://localhost:8080/",
          "height": 34
        }
      },
      "source": [
        "modelo.fit(dados_motoristas_treinando,marcacoes_treinando)"
      ],
      "execution_count": 0,
      "outputs": [
        {
          "output_type": "execute_result",
          "data": {
            "text/plain": [
              "MultinomialNB(alpha=1.0, class_prior=None, fit_prior=True)"
            ]
          },
          "metadata": {
            "tags": []
          },
          "execution_count": 18
        }
      ]
    },
    {
      "cell_type": "markdown",
      "metadata": {
        "id": "v04LxENi1ovw",
        "colab_type": "text"
      },
      "source": [
        "## Predição dos clientes de testes(0 => bons motoristas e 1=> maus motoristas)"
      ]
    },
    {
      "cell_type": "code",
      "metadata": {
        "id": "uDDhu9d-Mmt3",
        "colab_type": "code",
        "outputId": "6af48775-b22b-44b6-f605-5b78a18fc3bf",
        "colab": {
          "base_uri": "https://localhost:8080/",
          "height": 34
        }
      },
      "source": [
        "print(modelo.predict(dados_motoristas_teste))"
      ],
      "execution_count": 0,
      "outputs": [
        {
          "output_type": "stream",
          "text": [
            "[0 0 0 1 1 1 0 1 1 1]\n"
          ],
          "name": "stdout"
        }
      ]
    },
    {
      "cell_type": "code",
      "metadata": {
        "id": "kAKb3QxSvHS1",
        "colab_type": "code",
        "outputId": "3ff18e38-815a-43bf-86ca-a16472503bb4",
        "colab": {
          "base_uri": "https://localhost:8080/",
          "height": 34
        }
      },
      "source": [
        "resultado_predicao= modelo.predict(dados_motoristas_teste)\n",
        "total_de_acertos = len( True == (resultado_predicao == resultado_do_teste) )\n",
        "total_de_elemento_treinamento = len(dados_motoristas_treinando)\n",
        "total_de_elemento_testa       = len(dados_motoristas_teste)\n",
        "porcentagem_acerto = 100.0 * total_de_acertos / total_de_elemento_testa\n",
        "print(porcentagem_acerto)"
      ],
      "execution_count": 0,
      "outputs": [
        {
          "output_type": "stream",
          "text": [
            "100.0\n"
          ],
          "name": "stdout"
        }
      ]
    },
    {
      "cell_type": "code",
      "metadata": {
        "id": "_THtp0Hakn9-",
        "colab_type": "code",
        "colab": {}
      },
      "source": [
        "#Array\n",
        "par = [i for i in range(100) if i % 2 == 0 ]"
      ],
      "execution_count": 0,
      "outputs": []
    }
  ]
}